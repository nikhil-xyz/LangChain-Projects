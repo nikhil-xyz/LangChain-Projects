{
 "cells": [
  {
   "cell_type": "markdown",
   "id": "e61ea3fc",
   "metadata": {},
   "source": [
    "## Groq ChatBot"
   ]
  },
  {
   "cell_type": "code",
   "execution_count": 21,
   "id": "8c419146",
   "metadata": {},
   "outputs": [],
   "source": [
    "import os\n",
    "from dotenv import load_dotenv"
   ]
  },
  {
   "cell_type": "markdown",
   "id": "fdbe03f1",
   "metadata": {},
   "source": [
    "### Loading environment variables"
   ]
  },
  {
   "cell_type": "code",
   "execution_count": 22,
   "id": "795807de",
   "metadata": {},
   "outputs": [],
   "source": [
    "os.environ['GROQ_API_KEY'] = os.getenv('GROQ_API_KEY')\n",
    "os.environ['LANGCHAIN_API_KEY'] = os.getenv('LANGCHAIN_API_KEY')"
   ]
  },
  {
   "cell_type": "code",
   "execution_count": 23,
   "id": "0e07815c",
   "metadata": {},
   "outputs": [],
   "source": [
    "from langchain_core.prompts import ChatPromptTemplate\n",
    "from langchain_core.output_parsers import StrOutputParser\n",
    "from langchain_groq import ChatGroq"
   ]
  },
  {
   "cell_type": "code",
   "execution_count": 24,
   "id": "d81156b1",
   "metadata": {},
   "outputs": [],
   "source": [
    "# prompt\n",
    "prompt = ChatPromptTemplate.from_messages(\n",
    "    [\n",
    "        (\"system\", \"You are a helpful assistant.\"),\n",
    "        (\"user\", \"Question : {question}\")\n",
    "    ]\n",
    ")"
   ]
  },
  {
   "cell_type": "code",
   "execution_count": 28,
   "id": "11ec24ac",
   "metadata": {},
   "outputs": [],
   "source": [
    "llm = ChatGroq(\n",
    "    model_name=\"qwen-qwq-32b\",\n",
    "    groq_api_key=os.getenv('GROQ_API_KEY'),\n",
    ")"
   ]
  },
  {
   "cell_type": "code",
   "execution_count": 29,
   "id": "c9119215",
   "metadata": {},
   "outputs": [],
   "source": [
    "output_parser = StrOutputParser()"
   ]
  },
  {
   "cell_type": "code",
   "execution_count": 31,
   "id": "3bb91a4e",
   "metadata": {},
   "outputs": [
    {
     "data": {
      "text/plain": [
       "\"\\n<think>\\nOkay, the user is asking how many teams are there in the IPL. Let me think. IPL stands for Indian Premier League, which is a cricket tournament. I remember that the number of teams has changed over the years.\\n\\nOriginally, when the IPL started in 2008, there were 10 teams. But in recent years, I think they expanded it. Wait, I heard something about increasing to 10 teams again after some changes. Wait, no, maybe it's 8 or 10. Let me check my memory. \\n\\nOh right, in 2023, there was an expansion. The IPL added two new teams, so now there are 12 teams total. But wait, when did that happen exactly? The 2023 season might have been the one with the expansion. Let me confirm. \\n\\nOriginal teams were 10, but some teams were suspended or relocated. For example, the Kochi Tuskers Kerala team had withdrawn early on. But in recent years, the number was 8 for some time, then maybe back to 10. Wait, the 2023 season introduced two new teams: Dharamsala豹 (Dharamsala Panthers) and Lucknow Super Giants? Wait no, Lucknow Super Giants were already there. Wait, maybe the two new teams are Dharamsala and Patna? Or was it something else?\\n\\nAlternatively, perhaps the current number is 10. Let me think again. The IPL 2023 season had 10 teams, but then they expanded to 12 by adding two new ones. Wait, maybe there was a change in the 2023 season. Let me see: The IPL started with 10 teams in 2008. Then due to some issues, the number reduced temporarily. But in the last few years, it had 8 teams for a while, but then increased again. \\n\\nWait, according to recent updates, the 2023 season actually had 10 teams, but then the BCCI decided to expand to 12 teams starting from the 2024 season by adding two new franchises. So the current number as of 2024 would be 12 teams. However, if the question is asking up to the 2023 season, it was 10, but 2024 onwards it's 12. \\n\\nI need to confirm the exact current number. Let me check. \\n\\nYes, the IPL 2023 season had 10 teams, but the BCCI announced expansion to 12 teams starting 2024. The two new teams are Dharamsala豹 (Dharamsala Panthers) and Patna Wildcats. Therefore, as of 2024, there are 12 teams. So depending on when the question is being asked, but since the user is asking now, in 2024, the correct answer would be 12 teams. \\n\\nWait, but maybe the user is referring to the current year's IPL. Let me make sure. The latest season in 2024 would have 12. So the answer should be 12. But I need to present the information accurately, mentioning that they expanded to 12 in 2024 after adding two new teams.\\n</think>\\n\\nAs of the 2024 season, there are **12 teams** in the Indian Premier League (IPL). The league expanded from 10 to 12 teams in 2024 by adding two new franchises:  \\n- **Dharamsala豹 (Dharamsala Panthers)**  \\n- **Patna Wildcats**  \\n\\nPrior to this expansion, the IPL had 10 teams since 2015, following previous changes and relocations (e.g., the original 2008 edition had 10 teams, reduced temporarily to 8 after the 2010 season due to the withdrawal of the Kochi Tuskers Kerala, but later restored to 10). The expansion to 12 teams was announced by the BCCI to increase the tournament's reach and competitiveness.  \\n\\nFor the most recent updates, you can check official IPL sources, as team numbers can change with future expansions.\""
      ]
     },
     "execution_count": 31,
     "metadata": {},
     "output_type": "execute_result"
    }
   ],
   "source": [
    "chain = prompt | llm | output_parser\n",
    "chain.invoke({\"question\": \"How many teams are there in the IPL?\"})"
   ]
  },
  {
   "cell_type": "code",
   "execution_count": null,
   "id": "38b3ba62",
   "metadata": {},
   "outputs": [],
   "source": []
  }
 ],
 "metadata": {
  "kernelspec": {
   "display_name": "langchain",
   "language": "python",
   "name": "python3"
  },
  "language_info": {
   "codemirror_mode": {
    "name": "ipython",
    "version": 3
   },
   "file_extension": ".py",
   "mimetype": "text/x-python",
   "name": "python",
   "nbconvert_exporter": "python",
   "pygments_lexer": "ipython3",
   "version": "3.12.9"
  }
 },
 "nbformat": 4,
 "nbformat_minor": 5
}
